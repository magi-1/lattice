{
 "cells": [
  {
   "cell_type": "code",
   "execution_count": 1,
   "id": "f9c71734",
   "metadata": {},
   "outputs": [],
   "source": [
    "import pandas as pd\n",
    "import lattice.utils.paths as paths"
   ]
  },
  {
   "cell_type": "code",
   "execution_count": 3,
   "id": "e2ee7bfc",
   "metadata": {},
   "outputs": [],
   "source": [
    "dirs = list(paths.data.iterdir())\n",
    "\n",
    "files = list(dirs[0].iterdir())"
   ]
  },
  {
   "cell_type": "code",
   "execution_count": 7,
   "id": "b03c6c13",
   "metadata": {},
   "outputs": [],
   "source": [
    "df = pd.read_parquet(files[0])"
   ]
  }
 ],
 "metadata": {
  "kernelspec": {
   "display_name": "Python 3 (ipykernel)",
   "language": "python",
   "name": "python3"
  },
  "language_info": {
   "codemirror_mode": {
    "name": "ipython",
    "version": 3
   },
   "file_extension": ".py",
   "mimetype": "text/x-python",
   "name": "python",
   "nbconvert_exporter": "python",
   "pygments_lexer": "ipython3",
   "version": "3.8.10"
  }
 },
 "nbformat": 4,
 "nbformat_minor": 5
}
